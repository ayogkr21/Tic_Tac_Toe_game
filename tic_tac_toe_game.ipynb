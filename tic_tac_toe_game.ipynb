{
  "nbformat": 4,
  "nbformat_minor": 0,
  "metadata": {
    "colab": {
      "name": "tic_tac_toe_game.ipynb",
      "provenance": [],
      "authorship_tag": "ABX9TyPdOh6EnxHqvSabScEuGlUR",
      "include_colab_link": true
    },
    "kernelspec": {
      "name": "python3",
      "display_name": "Python 3"
    },
    "language_info": {
      "name": "python"
    }
  },
  "cells": [
    {
      "cell_type": "markdown",
      "metadata": {
        "id": "view-in-github",
        "colab_type": "text"
      },
      "source": [
        "<a href=\"https://colab.research.google.com/github/ayogkr21/Tic_Tac_Toe_game/blob/main/tic_tac_toe_game.ipynb\" target=\"_parent\"><img src=\"https://colab.research.google.com/assets/colab-badge.svg\" alt=\"Open In Colab\"/></a>"
      ]
    },
    {
      "cell_type": "markdown",
      "source": [
        "## Tic_Tac_Toe_game"
      ],
      "metadata": {
        "id": "wbgyp0Q8k3_c"
      }
    },
    {
      "cell_type": "code",
      "source": [
        "from IPython.display import clear_output"
      ],
      "metadata": {
        "id": "Jbi1mEbpk7_P"
      },
      "execution_count": null,
      "outputs": []
    },
    {
      "cell_type": "code",
      "execution_count": null,
      "metadata": {
        "id": "8BBUw8aRj9v7"
      },
      "outputs": [],
      "source": [
        "def display_board(board):\n",
        "    clear_output()\n",
        "    print(board[1]+' | '+board[2]+' | '+board[3])\n",
        "    print('---------')\n",
        "    print(board[4]+' | '+board[5]+' | '+board[6])\n",
        "    print('---------')\n",
        "    print(board[7]+' | '+board[8]+' | '+board[9])\n",
        "   "
      ]
    },
    {
      "cell_type": "code",
      "source": [
        "def player_input():\n",
        "    marker = ''\n",
        "    while marker!= 'X' and marker!='O':\n",
        "        marker = input('player1: do you want to be X or O?').upper()\n",
        "    if marker =='X':\n",
        "        return('X','O')\n",
        "    else:\n",
        "        return('O','X')"
      ],
      "metadata": {
        "id": "MlVE5BHNlAjX"
      },
      "execution_count": null,
      "outputs": []
    },
    {
      "cell_type": "code",
      "source": [
        "def place_marker(board, marker, position):\n",
        "    board[position] = marker"
      ],
      "metadata": {
        "id": "OcTscH2XlC7a"
      },
      "execution_count": null,
      "outputs": []
    },
    {
      "cell_type": "code",
      "source": [
        "def win_check(board,mark):\n",
        "     return ((board[1] == mark and board[2] == mark and board[3] == mark) or # across the top\n",
        "    (board[4] == mark and board[5] == mark and board[6] == mark) or # across the middle\n",
        "    (board[7] == mark and board[8] == mark and board[9] == mark) or # across the bottom\n",
        "    (board[1] == mark and board[4] == mark and board[7] == mark) or # down the middle\n",
        "    (board[2] == mark and board[5] == mark and board[8] == mark) or # down the middle\n",
        "    (board[3] == mark and board[6] == mark and board[9] == mark) or # down the right side\n",
        "    (board[3] == mark and board[5] == mark and board[7] == mark) or # diagonal\n",
        "    (board[1] == mark and board[5] == mark and board[9] == mark)) # diagonal"
      ],
      "metadata": {
        "id": "5PxDYvy_lFvS"
      },
      "execution_count": null,
      "outputs": []
    },
    {
      "cell_type": "code",
      "source": [
        "import random\n",
        "\n",
        "def choose_first():\n",
        "    if random.randint(0, 1) == 0:\n",
        "        return 'Player 1'\n",
        "    else:\n",
        "        return 'Player 2'"
      ],
      "metadata": {
        "id": "4sCW4z71lHwM"
      },
      "execution_count": null,
      "outputs": []
    },
    {
      "cell_type": "code",
      "source": [
        "def space_check(board, position):\n",
        "    \n",
        "    return board[position] == ' '"
      ],
      "metadata": {
        "id": "SiNh0kVFlKNW"
      },
      "execution_count": null,
      "outputs": []
    },
    {
      "cell_type": "code",
      "source": [
        "def full_board_check(board):\n",
        "    for i in range(1,10):\n",
        "        if space_check(board, i):\n",
        "            return False\n",
        "    return True"
      ],
      "metadata": {
        "id": "j7Z1VaoRlL5A"
      },
      "execution_count": null,
      "outputs": []
    },
    {
      "cell_type": "code",
      "source": [
        "def player_choice(board):\n",
        "    position = 0\n",
        "    \n",
        "    while position not in [1,2,3,4,5,6,7,8,9] or not space_check(board, position):\n",
        "        position = int(input('Choose your next position: (1-9) '))\n",
        "        \n",
        "    return position"
      ],
      "metadata": {
        "id": "K0L8kqkalObf"
      },
      "execution_count": null,
      "outputs": []
    },
    {
      "cell_type": "code",
      "source": [
        "def replay():\n",
        "    \n",
        "    return input('Do you want to play again? Enter Yes or No: ').lower().startswith('y')"
      ],
      "metadata": {
        "id": "VfsiIJellQUA"
      },
      "execution_count": null,
      "outputs": []
    },
    {
      "cell_type": "code",
      "source": [
        "print('Welcome to Tic Tac Toe game!')\n",
        "\n",
        "while True:\n",
        "    # Reset the board\n",
        "    the_Board = [' '] * 10\n",
        "    player1_marker, player2_marker = player_input()\n",
        "    turn = choose_first()\n",
        "    print(turn + ' will go first.')\n",
        "    \n",
        "    play_game = input('Are you ready to play? Enter Yes or No.')\n",
        "    \n",
        "    if play_game.lower() == 'yes':\n",
        "        game_on = True\n",
        "    else:\n",
        "        game_on = False\n",
        "\n",
        "    while game_on:\n",
        "        if turn == 'Player 1':\n",
        "            # Player1's turn.\n",
        "            \n",
        "            display_board(the_Board)\n",
        "            position = player_choice(the_Board)\n",
        "            place_marker(the_Board, player1_marker, position)\n",
        "\n",
        "            if win_check(the_Board, player1_marker):\n",
        "                display_board(the_Board)\n",
        "                print('Congratulations! You have won the game!')\n",
        "                game_on = False\n",
        "            else:\n",
        "                if full_board_check(the_Board):\n",
        "                    display_board(the_Board)\n",
        "                    print('The game is a draw!')\n",
        "                    break\n",
        "                else:\n",
        "                    turn = 'Player 2'\n",
        "\n",
        "        else:\n",
        "            # Player2's turn.\n",
        "            \n",
        "            display_board(the_Board)\n",
        "            position = player_choice(the_Board)\n",
        "            place_marker(the_Board, player2_marker, position)\n",
        "\n",
        "            if win_check(the_Board, player2_marker):\n",
        "                display_board(the_Board)\n",
        "                print('Player 2 has won!')\n",
        "                game_on = False\n",
        "            else:\n",
        "                if full_board_check(the_Board):\n",
        "                    display_board(the_Board)\n",
        "                    print('The game is a draw!')\n",
        "                    break\n",
        "                else:\n",
        "                    turn = 'Player 1'\n",
        "\n",
        "    if not replay():\n",
        "        break\n"
      ],
      "metadata": {
        "colab": {
          "base_uri": "https://localhost:8080/"
        },
        "id": "Q1oWz1FQlSC9",
        "outputId": "39fd9f8d-fe78-4e3f-b0fe-4ee5c9b22694"
      },
      "execution_count": null,
      "outputs": [
        {
          "metadata": {
            "tags": null
          },
          "name": "stdout",
          "output_type": "stream",
          "text": [
            "O | X | O\n",
            "---------\n",
            "O | X | X\n",
            "---------\n",
            "X | O | O\n",
            "The game is a draw!\n"
          ]
        }
      ]
    },
    {
      "cell_type": "code",
      "source": [
        ""
      ],
      "metadata": {
        "id": "9EvCnulolVYl"
      },
      "execution_count": null,
      "outputs": []
    }
  ]
}